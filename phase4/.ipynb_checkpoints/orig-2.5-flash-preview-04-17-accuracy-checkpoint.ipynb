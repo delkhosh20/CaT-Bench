{
 "cells": [
  {
   "cell_type": "code",
   "execution_count": 1,
   "id": "72d64269",
   "metadata": {},
   "outputs": [],
   "source": [
    "import json\n",
    "import os"
   ]
  },
  {
   "cell_type": "code",
   "execution_count": 2,
   "id": "03a60522",
   "metadata": {},
   "outputs": [],
   "source": [
    "folder_path = 'orig-2.5-flash-preview-04-17'\n",
    "\n",
    "total_questions = 0\n",
    "total_correct = 0"
   ]
  },
  {
   "cell_type": "code",
   "execution_count": 3,
   "id": "6a85da82",
   "metadata": {},
   "outputs": [],
   "source": [
    "with open('orig-2.5-flash-preview-04-17.txt', 'w') as f:\n",
    "    for filename in os.listdir(folder_path):\n",
    "        #print(filename)\n",
    "        file_path = os.path.join(folder_path, filename)\n",
    "        with open(file_path, 'r') as file:\n",
    "            data = json.load(file)\n",
    "        #print(data)\n",
    "\n",
    "        file_total = len(data)\n",
    "        file_correct = 0\n",
    "        incorrect_entries = []\n",
    "\n",
    "        for entry in data:\n",
    "            answer = entry['answer'].strip().lower()\n",
    "            if 'no' in answer:\n",
    "                file_correct += 1\n",
    "            else:\n",
    "                incorrect_entries.append({\n",
    "                    'goal': entry['goal'],\n",
    "                    'question': entry['question'],\n",
    "                    'answer': entry['answer']\n",
    "                })\n",
    "\n",
    "        file_accuracy = (file_correct / file_total) * 100 if file_total > 0 else 0\n",
    "\n",
    "        f.write(f\"\\nFile: {filename}\\n\")\n",
    "        f.write(f\"  Total questions: {file_total}\\n\")\n",
    "        f.write(f\"  Correct (NO) answers: {file_correct}\\n\")\n",
    "        f.write(f\"  Accuracy: {file_accuracy:.2f}%\\n\")\n",
    "\n",
    "        if incorrect_entries:\n",
    "            f.write(f\"  Incorrectly answered questions:\\n\")\n",
    "            for i, entry in enumerate(incorrect_entries, 1):\n",
    "                f.write(f\"    {i}. Goal: {entry['goal']}\\n\")\n",
    "                f.write(f\"       Question: {entry['question']}\\n\")\n",
    "                f.write(f\"       Answer: {entry['answer']}\\n\")\n",
    "\n",
    "        total_questions += file_total\n",
    "        total_correct += file_correct"
   ]
  },
  {
   "cell_type": "code",
   "execution_count": 4,
   "id": "1fa3fa6e",
   "metadata": {},
   "outputs": [
    {
     "name": "stdout",
     "output_type": "stream",
     "text": [
      "\n",
      "=== Overall Summary ===\n",
      "Total files processed: 36\n",
      "Total questions: 36\n",
      "Total correct (NO) answers: 11\n",
      "Overall accuracy: 30.56%\n"
     ]
    }
   ],
   "source": [
    "overall_accuracy = (total_correct / total_questions) * 100 if total_questions > 0 else 0\n",
    "\n",
    "print(f\"\\n=== Overall Summary ===\")\n",
    "print(f\"Total files processed: {len([f for f in os.listdir(folder_path) if f.endswith('.json')])}\")\n",
    "print(f\"Total questions: {total_questions}\")\n",
    "print(f\"Total correct (NO) answers: {total_correct}\")\n",
    "print(f\"Overall accuracy: {overall_accuracy:.2f}%\")"
   ]
  },
  {
   "cell_type": "code",
   "execution_count": null,
   "id": "bea54838",
   "metadata": {},
   "outputs": [],
   "source": []
  }
 ],
 "metadata": {
  "kernelspec": {
   "display_name": "Python 3 (ipykernel)",
   "language": "python",
   "name": "python3"
  },
  "language_info": {
   "codemirror_mode": {
    "name": "ipython",
    "version": 3
   },
   "file_extension": ".py",
   "mimetype": "text/x-python",
   "name": "python",
   "nbconvert_exporter": "python",
   "pygments_lexer": "ipython3",
   "version": "3.10.0"
  }
 },
 "nbformat": 4,
 "nbformat_minor": 5
}
