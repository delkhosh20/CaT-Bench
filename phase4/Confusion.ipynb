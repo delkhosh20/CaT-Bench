{
 "cells": [
  {
   "cell_type": "code",
   "execution_count": 1,
   "id": "4d7aa38b",
   "metadata": {},
   "outputs": [],
   "source": [
    "import re\n",
    "import matplotlib.pyplot as plt\n",
    "from sklearn.metrics import confusion_matrix, ConfusionMatrixDisplay"
   ]
  },
  {
   "cell_type": "code",
   "execution_count": 8,
   "id": "de6e8bc9",
   "metadata": {},
   "outputs": [],
   "source": [
    "file_path = 'comparison_gemini-2.5-flash.txt'"
   ]
  },
  {
   "cell_type": "code",
   "execution_count": 9,
   "id": "d7a7b719",
   "metadata": {},
   "outputs": [],
   "source": [
    "with open(file_path, 'r') as f:\n",
    "    content = f.read()\n",
    "\n",
    "# Initialize actual and predicted labels\n",
    "y_true = []\n",
    "y_pred = []\n",
    "\n",
    "# Parse each recipe block\n",
    "recipe_blocks = content.strip().split(\"\\n\\n\")\n",
    "for block in recipe_blocks:\n",
    "    recipe_match = re.search(r\"Recipe:\\s*(.*)\", block)\n",
    "    original_match = re.search(r\"Original answer:\\s*(yes|no)\", block, re.IGNORECASE)\n",
    "    total_perm_match = re.search(r\"Total permutations:\\s*(\\d+)\", block)\n",
    "    diff_match = re.search(r\"Differing answers:\\s*(\\d+)\", block)\n",
    "\n",
    "    if not (recipe_match and original_match and total_perm_match and diff_match):\n",
    "        continue\n",
    "\n",
    "    original = original_match.group(1).lower()\n",
    "    total = int(total_perm_match.group(1))\n",
    "    differing = int(diff_match.group(1))\n",
    "    same = total - differing\n",
    "\n",
    "    # Simulate actual vs predicted based on differing answers\n",
    "    for _ in range(same):\n",
    "        y_true.append(original)\n",
    "        y_pred.append(original)\n",
    "\n",
    "    for _ in range(differing):\n",
    "        y_true.append(original)\n",
    "        y_pred.append('no' if original == 'yes' else 'yes')\n"
   ]
  },
  {
   "cell_type": "code",
   "execution_count": 10,
   "id": "458b5d5b",
   "metadata": {},
   "outputs": [
    {
     "data": {
      "image/png": "[encoded data removed]",
      "text/plain": [
       "<Figure size 432x288 with 2 Axes>"
      ]
     },
     "metadata": {
      "needs_background": "light"
     },
     "output_type": "display_data"
    }
   ],
   "source": [
    "# Generate confusion matrix\n",
    "labels = ['yes', 'no']\n",
    "cm = confusion_matrix(y_true, y_pred, labels=labels)\n",
    "\n",
    "# Display\n",
    "disp = ConfusionMatrixDisplay(confusion_matrix=cm, display_labels=labels)\n",
    "disp.plot(cmap='Blues')\n",
    "plt.title(\"Confusion Matrix (Original vs Permuted Answers)\")\n",
    "plt.show()"
   ]
  },
  {
   "cell_type": "code",
   "execution_count": null,
   "id": "88c8a06b",
   "metadata": {},
   "outputs": [],
   "source": []
  }
 ],
 "metadata": {
  "kernelspec": {
   "display_name": "Python 3 (ipykernel)",
   "language": "python",
   "name": "python3"
  },
  "language_info": {
   "codemirror_mode": {
    "name": "ipython",
    "version": 3
   },
   "file_extension": ".py",
   "mimetype": "text/x-python",
   "name": "python",
   "nbconvert_exporter": "python",
   "pygments_lexer": "ipython3",
   "version": "3.10.0"
  }
 },
 "nbformat": 4,
 "nbformat_minor": 5
}
